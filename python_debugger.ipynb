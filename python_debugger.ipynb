{
  "nbformat": 4,
  "nbformat_minor": 0,
  "metadata": {
    "colab": {
      "name": "python_debugger.ipynb",
      "provenance": [],
      "collapsed_sections": [],
      "authorship_tag": "ABX9TyMaPRr59j1Z2O2dlSV9et4H",
      "include_colab_link": true
    },
    "kernelspec": {
      "name": "python3",
      "display_name": "Python 3"
    }
  },
  "cells": [
    {
      "cell_type": "markdown",
      "metadata": {
        "id": "view-in-github",
        "colab_type": "text"
      },
      "source": [
        "<a href=\"https://colab.research.google.com/github/Eashan123/Videos/blob/main/python_debugger.ipynb\" target=\"_parent\"><img src=\"https://colab.research.google.com/assets/colab-badge.svg\" alt=\"Open In Colab\"/></a>"
      ]
    },
    {
      "cell_type": "markdown",
      "metadata": {
        "id": "-F49jy412QYq"
      },
      "source": [
        "PDB Python Debugger\n",
        "\n",
        "For more information you can refer:\n",
        "https://docs.python.org/3/library/pdb.html\n",
        "\n",
        "This video is an extension of previous video: \n",
        "Python Class | Objects | OOP | part-1\n",
        "\n",
        "Better to have a look at it first.\n",
        "\n",
        "Let's see pdb in action..."
      ]
    },
    {
      "cell_type": "code",
      "metadata": {
        "id": "fM_4b6L_3u4C"
      },
      "source": [
        "import pdb"
      ],
      "execution_count": 53,
      "outputs": []
    },
    {
      "cell_type": "code",
      "metadata": {
        "id": "e_-VU4xpuSOl"
      },
      "source": [
        "class Operator:\n",
        "\n",
        "  def __init__(self, x, y):\n",
        "    self.x = x\n",
        "    self.y = y\n",
        "\n",
        "  def add(self):\n",
        "    return self.x+self.y\n",
        "\n",
        "  def sub(self): # we are here\n",
        "    return self.x-self.y\n",
        "\n",
        "  def mul(self):\n",
        "    return self.x*self.y\n",
        "\n",
        "  def div(self):\n",
        "    return self.x/self.y\n",
        "\n",
        "  def break_loop(self): # we are here\n",
        "    for i in range(100):\n",
        "      pass\n",
        "\n",
        "  def main(self):\n",
        "\n",
        "    pdb.set_trace() # break point....\n",
        "\n",
        "    A = self.add()\n",
        "    S = self.sub() # we will enter this function, enter s\n",
        "    M = self.mul()\n",
        "  \n",
        "    # how to break from a loop\n",
        "\n",
        "    self.break_loop() # out of here\n",
        "\n",
        "    D = self.div()\n",
        "    dic = {\"addition\":A, \"Subtraction\":S, \"Multiplication\":M, \"Division\":D}\n",
        "    \n",
        "    \n",
        "    \n",
        "\n",
        "    return dic"
      ],
      "execution_count": 54,
      "outputs": []
    },
    {
      "cell_type": "markdown",
      "metadata": {
        "id": "eJauemel38_E"
      },
      "source": [
        "Some commands to keep in mind:\n",
        "\n",
        "n -> next (go to next line of code\n",
        "c -> execute all the lines of code\n",
        "u -> until (jump out of the loop)\n",
        "s -> step (step into the function)\n",
        "\n",
        "For more information you can refer:\n",
        "https://web.stanford.edu/class/physics91si/2013/handouts/Pdb_Commands.pdf\n"
      ]
    },
    {
      "cell_type": "code",
      "metadata": {
        "colab": {
          "base_uri": "https://localhost:8080/"
        },
        "id": "ZSbV6_rkw9u2",
        "outputId": "885731c8-a0eb-42cf-9117-5f1216211758"
      },
      "source": [
        "obj = Operator(30, 10)\n",
        "result = obj.main()"
      ],
      "execution_count": 55,
      "outputs": [
        {
          "output_type": "stream",
          "text": [
            "> <ipython-input-54-3b6e58e79964>(27)main()\n",
            "-> A = self.add()\n",
            "(Pdb) n\n",
            "> <ipython-input-54-3b6e58e79964>(28)main()\n",
            "-> S = self.sub()\n",
            "(Pdb) s\n",
            "--Call--\n",
            "> <ipython-input-54-3b6e58e79964>(10)sub()\n",
            "-> def sub(self):\n",
            "(Pdb) n\n",
            "> <ipython-input-54-3b6e58e79964>(11)sub()\n",
            "-> return self.x-self.y\n",
            "(Pdb) n\n",
            "--Return--\n",
            "> <ipython-input-54-3b6e58e79964>(11)sub()->20\n",
            "-> return self.x-self.y\n",
            "(Pdb) n\n",
            "> <ipython-input-54-3b6e58e79964>(29)main()\n",
            "-> M = self.mul()\n",
            "(Pdb) S\n",
            "20\n",
            "(Pdb) n\n",
            "> <ipython-input-54-3b6e58e79964>(33)main()\n",
            "-> self.break_loop()\n",
            "(Pdb) s\n",
            "--Call--\n",
            "> <ipython-input-54-3b6e58e79964>(19)break_loop()\n",
            "-> def break_loop(self):\n",
            "(Pdb) n\n",
            "> <ipython-input-54-3b6e58e79964>(20)break_loop()\n",
            "-> for i in range(100):\n",
            "(Pdb) n\n",
            "> <ipython-input-54-3b6e58e79964>(21)break_loop()\n",
            "-> pass\n",
            "(Pdb) n\n",
            "> <ipython-input-54-3b6e58e79964>(20)break_loop()\n",
            "-> for i in range(100):\n",
            "(Pdb) n\n",
            "> <ipython-input-54-3b6e58e79964>(21)break_loop()\n",
            "-> pass\n",
            "(Pdb) n\n",
            "> <ipython-input-54-3b6e58e79964>(20)break_loop()\n",
            "-> for i in range(100):\n",
            "(Pdb) until\n",
            "> <ipython-input-54-3b6e58e79964>(21)break_loop()\n",
            "-> pass\n",
            "(Pdb) until\n",
            "--Return--\n",
            "> <ipython-input-54-3b6e58e79964>(20)break_loop()->None\n",
            "-> for i in range(100):\n",
            "(Pdb) until\n",
            "> <ipython-input-54-3b6e58e79964>(35)main()\n",
            "-> D = self.div()\n",
            "(Pdb) c\n"
          ],
          "name": "stdout"
        }
      ]
    },
    {
      "cell_type": "code",
      "metadata": {
        "colab": {
          "base_uri": "https://localhost:8080/"
        },
        "id": "GDdfDS_hxFAv",
        "outputId": "6b68a0ae-0765-420b-8d85-474a269633d1"
      },
      "source": [
        "# printing results\n",
        "result"
      ],
      "execution_count": 56,
      "outputs": [
        {
          "output_type": "execute_result",
          "data": {
            "text/plain": [
              "{'Division': 3.0, 'Multiplication': 300, 'Subtraction': 20, 'addition': 40}"
            ]
          },
          "metadata": {
            "tags": []
          },
          "execution_count": 56
        }
      ]
    }
  ]
}