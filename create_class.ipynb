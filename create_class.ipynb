{
  "nbformat": 4,
  "nbformat_minor": 0,
  "metadata": {
    "colab": {
      "name": "create_class.ipynb",
      "provenance": [],
      "collapsed_sections": [],
      "authorship_tag": "ABX9TyP3RzYlVoaok5eKGY210A1+",
      "include_colab_link": true
    },
    "kernelspec": {
      "name": "python3",
      "display_name": "Python 3"
    }
  },
  "cells": [
    {
      "cell_type": "markdown",
      "metadata": {
        "id": "view-in-github",
        "colab_type": "text"
      },
      "source": [
        "<a href=\"https://colab.research.google.com/github/Eashan123/Videos/blob/main/create_class.ipynb\" target=\"_parent\"><img src=\"https://colab.research.google.com/assets/colab-badge.svg\" alt=\"Open In Colab\"/></a>"
      ]
    },
    {
      "cell_type": "code",
      "metadata": {
        "id": "2f1TKsVhSxTG"
      },
      "source": [
        "class Operator:\n",
        "\n",
        "  def __init__(self, x, y):\n",
        "    self.x = x\n",
        "    self.y = y\n",
        "\n",
        "  def add(self):\n",
        "    return self.x+self.y\n",
        "\n",
        "  def sub(self):\n",
        "    return self.x-self.y\n",
        "\n",
        "  def mul(self):\n",
        "    return self.x*self.y\n",
        "\n",
        "  def div(self):\n",
        "    return self.x/self.y\n",
        "\n",
        "  def main(self):\n",
        "    A = self.add()\n",
        "    S = self.sub()\n",
        "    M = self.mul()\n",
        "    D = self.div()\n",
        "    dic = {\"addition\":A, \"Subtraction\":S, \"Multiplication\":M, \"Division\":D}\n",
        "    return dic"
      ],
      "execution_count": 19,
      "outputs": []
    },
    {
      "cell_type": "code",
      "metadata": {
        "colab": {
          "base_uri": "https://localhost:8080/"
        },
        "id": "1yBH4vQcUGRT",
        "outputId": "6be10178-6982-4964-9691-88bd40a6f7c9"
      },
      "source": [
        "val = input(\"Enter x value: \") "
      ],
      "execution_count": 8,
      "outputs": [
        {
          "output_type": "stream",
          "text": [
            "Enter x value: 30\n"
          ],
          "name": "stdout"
        }
      ]
    },
    {
      "cell_type": "code",
      "metadata": {
        "colab": {
          "base_uri": "https://localhost:8080/"
        },
        "id": "KI-BFgXTUcTh",
        "outputId": "91492ec0-7412-4cc3-e24c-feeaf8365ab2"
      },
      "source": [
        "val, type(val)"
      ],
      "execution_count": 10,
      "outputs": [
        {
          "output_type": "execute_result",
          "data": {
            "text/plain": [
              "('30', str)"
            ]
          },
          "metadata": {
            "tags": []
          },
          "execution_count": 10
        }
      ]
    },
    {
      "cell_type": "code",
      "metadata": {
        "colab": {
          "base_uri": "https://localhost:8080/"
        },
        "id": "zXNTW6jLUejt",
        "outputId": "99ad0e07-eb64-4f2f-97b4-c5482b8d0633"
      },
      "source": [
        "val = int(input(\"Enter x value: \") )"
      ],
      "execution_count": 12,
      "outputs": [
        {
          "output_type": "stream",
          "text": [
            "Enter x value: 30\n"
          ],
          "name": "stdout"
        }
      ]
    },
    {
      "cell_type": "code",
      "metadata": {
        "colab": {
          "base_uri": "https://localhost:8080/"
        },
        "id": "YqRQEwN_UlNu",
        "outputId": "3111990a-06e4-42ea-cb85-0f51726374db"
      },
      "source": [
        "val, type(val)"
      ],
      "execution_count": 14,
      "outputs": [
        {
          "output_type": "execute_result",
          "data": {
            "text/plain": [
              "(30, int)"
            ]
          },
          "metadata": {
            "tags": []
          },
          "execution_count": 14
        }
      ]
    },
    {
      "cell_type": "code",
      "metadata": {
        "colab": {
          "base_uri": "https://localhost:8080/"
        },
        "id": "ykGjLib7UptE",
        "outputId": "ce848e7c-b598-447c-dfc8-5d48c793a762"
      },
      "source": [
        "val2 = int(input(\"Enter y value: \") )"
      ],
      "execution_count": 15,
      "outputs": [
        {
          "output_type": "stream",
          "text": [
            "Enter y value: 10\n"
          ],
          "name": "stdout"
        }
      ]
    },
    {
      "cell_type": "code",
      "metadata": {
        "id": "nMmj9PSvUxUr"
      },
      "source": [
        "obj = Operator(val, val2)\n",
        "result = obj.main()"
      ],
      "execution_count": 24,
      "outputs": []
    },
    {
      "cell_type": "code",
      "metadata": {
        "colab": {
          "base_uri": "https://localhost:8080/"
        },
        "id": "rcZfeWf2U7Zm",
        "outputId": "944abf07-c07e-48ae-966d-df03a8f7fe60"
      },
      "source": [
        "result"
      ],
      "execution_count": 25,
      "outputs": [
        {
          "output_type": "execute_result",
          "data": {
            "text/plain": [
              "{'Division': 3.0, 'Multiplication': 300, 'Subtraction': 20, 'addition': 40}"
            ]
          },
          "metadata": {
            "tags": []
          },
          "execution_count": 25
        }
      ]
    },
    {
      "cell_type": "code",
      "metadata": {
        "id": "oOrfkwrSVE01"
      },
      "source": [
        ""
      ],
      "execution_count": null,
      "outputs": []
    },
    {
      "cell_type": "code",
      "metadata": {
        "id": "yE_3CFr4Va9M"
      },
      "source": [
        "class Operator2:\n",
        "\n",
        "  def __init__(self):\n",
        "    pass\n",
        "  def add(self, x, y):\n",
        "    return x+y\n",
        "\n",
        "  def sub(self, x, y):\n",
        "    return x-y\n",
        "\n",
        "  def mul(self, x, y):\n",
        "    return x*y\n",
        "\n",
        "  def div(self, x, y):\n",
        "    return x/y\n",
        "\n",
        "  def main(self, x, y):\n",
        "    A = self.add(x, y)\n",
        "    S = self.sub(x, y)\n",
        "    M = self.mul(x, y)\n",
        "    D = self.div(x, y)\n",
        "    dic = {\"addition\":A, \"Subtraction\":S, \"Multiplication\":M, \"Division\":D}\n",
        "    return dic"
      ],
      "execution_count": 38,
      "outputs": []
    },
    {
      "cell_type": "code",
      "metadata": {
        "id": "_Q9FHHbFV5ED"
      },
      "source": [
        "obj = Operator2()\n",
        "result = obj.main(val, val2)"
      ],
      "execution_count": 39,
      "outputs": []
    },
    {
      "cell_type": "code",
      "metadata": {
        "colab": {
          "base_uri": "https://localhost:8080/"
        },
        "id": "a0XmavMqWBxa",
        "outputId": "b89da13a-4928-45b2-e56e-568f78e80193"
      },
      "source": [
        "result"
      ],
      "execution_count": 40,
      "outputs": [
        {
          "output_type": "execute_result",
          "data": {
            "text/plain": [
              "{'Division': 3.0, 'Multiplication': 300, 'Subtraction': 20, 'addition': 40}"
            ]
          },
          "metadata": {
            "tags": []
          },
          "execution_count": 40
        }
      ]
    }
  ]
}