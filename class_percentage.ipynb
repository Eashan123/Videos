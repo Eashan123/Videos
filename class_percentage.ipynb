{
  "nbformat": 4,
  "nbformat_minor": 0,
  "metadata": {
    "colab": {
      "name": "class_percentage.ipynb",
      "provenance": [],
      "authorship_tag": "ABX9TyNqcnLk8nA2zrLlCkqtEjni",
      "include_colab_link": true
    },
    "kernelspec": {
      "name": "python3",
      "display_name": "Python 3"
    }
  },
  "cells": [
    {
      "cell_type": "markdown",
      "metadata": {
        "id": "view-in-github",
        "colab_type": "text"
      },
      "source": [
        "<a href=\"https://colab.research.google.com/github/Eashan123/Videos/blob/main/class_percentage.ipynb\" target=\"_parent\"><img src=\"https://colab.research.google.com/assets/colab-badge.svg\" alt=\"Open In Colab\"/></a>"
      ]
    },
    {
      "cell_type": "code",
      "metadata": {
        "id": "Rd4Zp-zlbepa"
      },
      "source": [
        "#objectives:\n",
        "\n",
        "#1. convert list to dataframe \n",
        "#2. concatenate dataframe axis=1 horizontally\n",
        "#4. custom function to get count, class percentage of each class."
      ],
      "execution_count": 1,
      "outputs": []
    },
    {
      "cell_type": "code",
      "metadata": {
        "colab": {
          "base_uri": "https://localhost:8080/",
          "height": 142
        },
        "id": "YJBIMC5KeX0u",
        "outputId": "3f128643-d1d1-45fd-c687-7be73769be51"
      },
      "source": [
        "import pandas as pd\n",
        "\n",
        "df_n = [\"1\", \"2\", \"a\", \"b\", \"apple\", \"grapes\", \"orange\", \"yellow\"]\n",
        "df_c = [\"number\", \"number\", \"alphabet\", \"alphabet\", \"fruits\", \"fruits\", \"colour\", \"colour\"]\n",
        "\n",
        "# list to dataframe\n",
        "\n",
        "df_1 = pd.DataFrame(df_n, columns=['values'])\n",
        "df_2 = pd.DataFrame(df_c, columns=['Cat'])\n",
        "\n",
        "# concatenate\n",
        "\n",
        "df = pd.concat([df_1, df_2], axis=1)\n",
        "\n",
        "df.head(3)"
      ],
      "execution_count": 2,
      "outputs": [
        {
          "output_type": "execute_result",
          "data": {
            "text/html": [
              "<div>\n",
              "<style scoped>\n",
              "    .dataframe tbody tr th:only-of-type {\n",
              "        vertical-align: middle;\n",
              "    }\n",
              "\n",
              "    .dataframe tbody tr th {\n",
              "        vertical-align: top;\n",
              "    }\n",
              "\n",
              "    .dataframe thead th {\n",
              "        text-align: right;\n",
              "    }\n",
              "</style>\n",
              "<table border=\"1\" class=\"dataframe\">\n",
              "  <thead>\n",
              "    <tr style=\"text-align: right;\">\n",
              "      <th></th>\n",
              "      <th>values</th>\n",
              "      <th>Cat</th>\n",
              "    </tr>\n",
              "  </thead>\n",
              "  <tbody>\n",
              "    <tr>\n",
              "      <th>0</th>\n",
              "      <td>1</td>\n",
              "      <td>number</td>\n",
              "    </tr>\n",
              "    <tr>\n",
              "      <th>1</th>\n",
              "      <td>2</td>\n",
              "      <td>number</td>\n",
              "    </tr>\n",
              "    <tr>\n",
              "      <th>2</th>\n",
              "      <td>a</td>\n",
              "      <td>alphabet</td>\n",
              "    </tr>\n",
              "  </tbody>\n",
              "</table>\n",
              "</div>"
            ],
            "text/plain": [
              "  values       Cat\n",
              "0      1    number\n",
              "1      2    number\n",
              "2      a  alphabet"
            ]
          },
          "metadata": {
            "tags": []
          },
          "execution_count": 2
        }
      ]
    },
    {
      "cell_type": "code",
      "metadata": {
        "colab": {
          "base_uri": "https://localhost:8080/"
        },
        "id": "I8ActA7-e3zc",
        "outputId": "3892f83e-86f8-43d7-c27e-1d2b51559236"
      },
      "source": [
        "df.shape"
      ],
      "execution_count": 3,
      "outputs": [
        {
          "output_type": "execute_result",
          "data": {
            "text/plain": [
              "(8, 2)"
            ]
          },
          "metadata": {
            "tags": []
          },
          "execution_count": 3
        }
      ]
    },
    {
      "cell_type": "code",
      "metadata": {
        "id": "m3BMw5izfJGc"
      },
      "source": [
        "# cusom function\n",
        "\n",
        "per = []\n",
        "\n",
        "def distribution(df, column):\n",
        "  labels = df[column].unique()\n",
        "  for label in list(set(labels)):\n",
        "    count = len(df[df[column]==label])\n",
        "    class_per = len(df[df[column]==label])/len(df)*100\n",
        "    per.append(class_per)\n",
        "    print(\"class percentage of {} is {} and count is {}\".format(label, class_per, count))"
      ],
      "execution_count": 4,
      "outputs": []
    },
    {
      "cell_type": "code",
      "metadata": {
        "colab": {
          "base_uri": "https://localhost:8080/"
        },
        "id": "gI6RUy9UgAUO",
        "outputId": "4cc61c92-22e5-4992-cbad-a4054670daa1"
      },
      "source": [
        "distribution(df,'Cat')"
      ],
      "execution_count": 5,
      "outputs": [
        {
          "output_type": "stream",
          "text": [
            "class percentage of fruits is 25.0 and count is 2\n",
            "class percentage of number is 25.0 and count is 2\n",
            "class percentage of alphabet is 25.0 and count is 2\n",
            "class percentage of colour is 25.0 and count is 2\n"
          ],
          "name": "stdout"
        }
      ]
    },
    {
      "cell_type": "code",
      "metadata": {
        "id": "fBewZfs5gD_d"
      },
      "source": [
        "If you find the video useful do like and subscribe\n",
        "Thankyou!"
      ],
      "execution_count": null,
      "outputs": []
    }
  ]
}